{
  "nbformat": 4,
  "nbformat_minor": 0,
  "metadata": {
    "colab": {
      "name": "Copy of retrain_model.ipynb",
      "provenance": [],
      "authorship_tag": "ABX9TyNIOXAcSwR0OQ/G3HnzbvGu",
      "include_colab_link": true
    },
    "kernelspec": {
      "name": "python3",
      "display_name": "Python 3"
    },
    "accelerator": "GPU"
  },
  "cells": [
    {
      "cell_type": "markdown",
      "metadata": {
        "id": "view-in-github",
        "colab_type": "text"
      },
      "source": [
        "<a href=\"https://colab.research.google.com/github/nforesperance/TensorFlow/blob/master/retrain_model.ipynb\" target=\"_parent\"><img src=\"https://colab.research.google.com/assets/colab-badge.svg\" alt=\"Open In Colab\"/></a>"
      ]
    },
    {
      "cell_type": "code",
      "metadata": {
        "id": "HWYjYJC4_KnK",
        "colab_type": "code",
        "colab": {}
      },
      "source": [
        "try:\n",
        "  # %tensorflow_version only exists in Colab.\n",
        "  %tensorflow_version 2.x\n",
        "except Exception:\n",
        "  pass\n",
        "\n",
        "!pip install pyyaml h5py  # Required to save models in HDF5 format"
      ],
      "execution_count": 0,
      "outputs": []
    },
    {
      "cell_type": "code",
      "metadata": {
        "id": "W346i8kUCCxc",
        "colab_type": "code",
        "outputId": "d666935b-937e-480c-b4ca-7cea4ee524c5",
        "colab": {
          "base_uri": "https://localhost:8080/",
          "height": 34
        }
      },
      "source": [
        "from __future__ import absolute_import, division, print_function, unicode_literals\n",
        "\n",
        "import os\n",
        "\n",
        "import tensorflow as tf\n",
        "from tensorflow import keras\n",
        "from tensorflow.keras.layers import Conv2D,MaxPool2D,Flatten,Dense\n",
        "\n",
        "print(tf.version.VERSION)"
      ],
      "execution_count": 4,
      "outputs": [
        {
          "output_type": "stream",
          "text": [
            "2.1.0\n"
          ],
          "name": "stdout"
        }
      ]
    },
    {
      "cell_type": "code",
      "metadata": {
        "id": "tPXqImHxCKWz",
        "colab_type": "code",
        "colab": {}
      },
      "source": [
        "(train_images, train_labels), (test_images, test_labels) = tf.keras.datasets.mnist.load_data()\n",
        "\n",
        "train_images = (train_images.reshape((train_images.shape[0], 28, 28, 1)))/ 255.0\n",
        "test_images = (test_images.reshape((test_images.shape[0], 28, 28, 1))) / 255.0\n",
        "test_images = test_images / 255.0\n",
        "train_images = train_images / 255.0"
      ],
      "execution_count": 0,
      "outputs": []
    },
    {
      "cell_type": "code",
      "metadata": {
        "id": "0rpmwtRCCOIV",
        "colab_type": "code",
        "colab": {}
      },
      "source": [
        "# Define a simple sequential model\n",
        "# Define a simple sequential model\n",
        "def create_model():\n",
        "  model = tf.keras.models.Sequential()\n",
        "  model.add(Conv2D(32, (3, 3), activation='relu', kernel_initializer='he_uniform', input_shape=(28, 28, 1)))\n",
        "  model.add(MaxPool2D((2, 2)))\n",
        "  model.add(Flatten())\n",
        "  model.add(Dense(100, activation='relu', kernel_initializer='he_uniform'))\n",
        "  model.add(Dense(10, activation='softmax'))\n",
        "\n",
        "  model.compile(optimizer='adam',\n",
        "                loss=tf.losses.SparseCategoricalCrossentropy(from_logits=True),\n",
        "                metrics=['accuracy'])\n",
        "\n",
        "  return model\n",
        "# Create a basic model instance\n",
        "model = create_model()"
      ],
      "execution_count": 0,
      "outputs": []
    },
    {
      "cell_type": "code",
      "metadata": {
        "id": "oENY5t5YzMHG",
        "colab_type": "code",
        "colab": {}
      },
      "source": [
        "checkpoint_path = \"trained0/cp.ckpt\"\n",
        "checkpoint_dir = os.path.dirname(checkpoint_path)\n",
        "save_path = \"trained0\""
      ],
      "execution_count": 0,
      "outputs": []
    },
    {
      "cell_type": "markdown",
      "metadata": {
        "id": "d-g-PkXDyw_6",
        "colab_type": "text"
      },
      "source": [
        "## N:B\n",
        "###The following cell should be ran only once or model will retrain completely\n",
        "#### checkpoint is necessary if to be able to load best weights if there was an interuption before restore_best_weight"
      ]
    },
    {
      "cell_type": "code",
      "metadata": {
        "id": "QHFyWizFCXMI",
        "colab_type": "code",
        "colab": {}
      },
      "source": [
        "\n",
        "#N:B The Followind Code is ran only once\n",
        "\n",
        "# Create a callback that saves the model's weights\n",
        "easystopping = tf.keras.callbacks.EarlyStopping(monitor='val_loss', min_delta=0, patience=0, verbose=1, mode='min', baseline=None, restore_best_weights=True)\n",
        "\n",
        "checkpoint = tf.keras.callbacks.ModelCheckpoint(filepath=checkpoint_path,\n",
        "                            monitor='val_loss',\n",
        "                            verbose=1,\n",
        "                            save_weights_only=True,\n",
        "                            save_best_only=True,\n",
        "                            mode='min')\n",
        "\n",
        "# Train the model with the new callback\n",
        "model.fit(train_images, train_labels, validation_data=(train_images,\n",
        "                                                       train_labels), \n",
        "                                                       epochs=20, \n",
        "                                                       batch_size=50, \n",
        "                                                       verbose = 2,\n",
        "                                                       callbacks=[checkpoint,easystopping])\n",
        "# model.load_weights(checkpoint_path)\n",
        "# model.save(\"trained1/best.h5\")"
      ],
      "execution_count": 0,
      "outputs": []
    },
    {
      "cell_type": "code",
      "metadata": {
        "id": "nFJF-P-Xq_XX",
        "colab_type": "code",
        "colab": {}
      },
      "source": [
        "model.save(save_path+\"/best.h5\")"
      ],
      "execution_count": 0,
      "outputs": []
    },
    {
      "cell_type": "markdown",
      "metadata": {
        "id": "jYuhoskJxpHH",
        "colab_type": "text"
      },
      "source": [
        "## Retraining\n",
        "### The following is used to load the trained model and retrain it\n"
      ]
    },
    {
      "cell_type": "code",
      "metadata": {
        "id": "sXyc1YCuChGH",
        "colab_type": "code",
        "colab": {}
      },
      "source": [
        "for i in range (2):\n",
        "  del model\n",
        "  model = tf.keras.models.load_model(save_path+'/best.h5')  \n",
        "  easystopping = tf.keras.callbacks.EarlyStopping(monitor='val_loss', min_delta=0, patience=0, verbose=1, mode='min', baseline=None, restore_best_weights=True)\n",
        "\n",
        "  checkpoint = tf.keras.callbacks.ModelCheckpoint(filepath=checkpoint_path,\n",
        "                            monitor='val_loss',\n",
        "                            verbose=1,\n",
        "                            save_weights_only=True,\n",
        "                            save_best_only=True,\n",
        "                            mode='min')\n",
        "\n",
        "  # Train the model with the new callback\n",
        "  model.fit(train_images, train_labels, validation_data=(train_images,\n",
        "                                                       train_labels), \n",
        "                                                       epochs=20, \n",
        "                                                       batch_size=50, \n",
        "                                                       verbose = 2,\n",
        "                                                       callbacks=[checkpoint,easystopping])\n",
        "  model.save(save_path+\"/best.h5\")\n"
      ],
      "execution_count": 0,
      "outputs": []
    },
    {
      "cell_type": "markdown",
      "metadata": {
        "id": "Ad27yGP5x_eM",
        "colab_type": "text"
      },
      "source": [
        "## Testing"
      ]
    },
    {
      "cell_type": "code",
      "metadata": {
        "id": "H4-2gyiZEUdG",
        "colab_type": "code",
        "colab": {
          "base_uri": "https://localhost:8080/",
          "height": 84
        },
        "outputId": "05113f26-b5b2-4039-b14e-0b256f28b506"
      },
      "source": [
        "# model.save(\"trained/best.h5\")\n",
        "del model\n",
        "model = tf.keras.models.load_model(save_path+'/best.h5')\n",
        "# Re-evaluate the model\n",
        "loss,acc1 = model.evaluate(test_images,  test_labels, verbose=2)\n",
        "print(\"Restored model, accuracy: {:5.2f}%\".format(100*acc1))\n",
        "\n",
        "del model\n",
        "model = create_model()\n",
        "model.load_weights(checkpoint_path)\n",
        "# Re-evaluate the model\n",
        "loss,acc2 = model.evaluate(test_images,  test_labels, verbose=2)\n",
        "print(\"Restored model, accuracy: {:5.2f}%\".format(100*acc2))\n",
        "if acc2 > acc1:\n",
        "  model.save(save_path+\"/best.h5\")\n",
        "  print(\"Checkpoint Model Used\")\n"
      ],
      "execution_count": 50,
      "outputs": [
        {
          "output_type": "stream",
          "text": [
            "10000/10000 - 1s - loss: 1.4761 - accuracy: 0.9852\n",
            "Restored model, accuracy: 98.52%\n",
            "10000/10000 - 1s - loss: 1.4761 - accuracy: 0.9852\n",
            "Restored model, accuracy: 98.52%\n"
          ],
          "name": "stdout"
        }
      ]
    }
  ]
}